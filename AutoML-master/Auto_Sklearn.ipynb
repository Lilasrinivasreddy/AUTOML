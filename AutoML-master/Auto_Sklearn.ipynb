{
  "nbformat": 4,
  "nbformat_minor": 0,
  "metadata": {
    "colab": {
      "name": "Auto_Sklearn.ipynb",
      "provenance": [],
      "collapsed_sections": [],
      "include_colab_link": true
    },
    "kernelspec": {
      "name": "python3",
      "display_name": "Python 3"
    },
    "language_info": {
      "name": "python"
    }
  },
  "cells": [
    {
      "cell_type": "markdown",
      "metadata": {
        "id": "view-in-github",
        "colab_type": "text"
      },
      "source": [
        "<a href=\"https://colab.research.google.com/github/sidharth178/AutoML/blob/master/Auto_Sklearn.ipynb\" target=\"_parent\"><img src=\"https://colab.research.google.com/assets/colab-badge.svg\" alt=\"Open In Colab\"/></a>"
      ]
    },
    {
      "cell_type": "markdown",
      "metadata": {
        "id": "qGfhggeiEDh-"
      },
      "source": [
        "\n",
        "<h1 align=\"center\"><b> Auto-Sklearn</h1>\n"
      ]
    },
    {
      "cell_type": "markdown",
      "metadata": {
        "id": "OG-JVnjynpB_"
      },
      "source": [
        "# 1. **Overview**\n",
        "- **Auto-Sklearn** is an open-source library for performing AutoML in Python. It makes use of the popular Scikit-Learn machine learning library for data transforms and machine learning algorithms and uses a Bayesian Optimization search procedure to efficiently discover a top-performing model pipeline for a given dataset.\n",
        "- **auto-sklearn is based on defining AutoML as a CASH problem.** \n",
        "\n",
        "- **CASH** = Combined Algorithm Selection and Hyperparameter optimization. Put simply, we want to find the best ML model and its hyperparameter for a dataset among a vast search space, including plenty of classifiers and a lot of hyperparameters. \n",
        "- In the figure below, you can see a representation of auto-sklearn provided by its authors.\n",
        "\n",
        " \n",
        "\n",
        "<p align=\"center\">\n",
        "  <img src=\"https://machinelearningmastery.com/wp-content/uploads/2020/03/Overview-of-the-Auto-Sklearn-System.png\"  alt=\"Auto-Sklearn diagram\"/>\n",
        "</p>\n",
        "\n",
        "### **Important Parameters :-**\n",
        "- **load_models :** [default value: True] -> Show the models after fitting or not\n",
        "- **time_left_for_this_task :** [3600 sec] -> It shows how many seconds are left for the task. If you increase it, the chance for better performance will be increased as well.\n",
        "- **n_jobs :** [ 1 ] -> you should set the “n_jobs” argument to the number of cores in your system.\n",
        "- **ensemble_size, initial_configurations_via_metalearning :** [50, 25]  -> By default, the search will create an ensemble of top-performing models discovered as part of the search. Sometimes, this can lead to **overfitting** and can be disabled by setting the “ensemble_size” argument to **1** and “initial_configurations_via_metalearning” to **0**.  *initial_configurations_via_metalearning* parameter is not available in the auto-sklearn V2.\n",
        "- **ensemble_nbest :** [50] -> Number of best models for building an ensemble model. Only works when ensemble_size is more than one.\n",
        "- **include_estimators :** -> It will use all estimators when there is None. Not available in auto-sklearn V2.\n",
        "- **exclude_estimators :** -> You can exclude some estimators from the search space. Not available in auto-sklearn V2.\n",
        "- **Metric :** -> If you don’t define a metric, it will be selected based on the task.By default, the regressor will optimize the R^2 metric.\n",
        "- **resampling_strategy :**[cv] -> In auto-sklearn V1, If I did not define the resampling_strategy, it could not get a good result. But in auto-sklearn V2, it did it automatically.\n",
        "- **sprint_statistics() :** -> It summarizes the search and the performance of the final model.\n",
        "\n",
        "\n",
        "**NOTE:** Auto-Sklearn doesn't do the data preprocessing and it takes only numerical values for training.\n",
        "\n",
        "\n",
        "\n",
        "\n",
        "\n",
        "\n",
        "\n"
      ]
    },
    {
      "cell_type": "markdown",
      "metadata": {
        "id": "zdt1tBxbRCgU"
      },
      "source": [
        "### **2. Install Auto-Sklearn**"
      ]
    },
    {
      "cell_type": "code",
      "metadata": {
        "id": "lxGSrdmGi-0F"
      },
      "source": [
        "!pip install auto-sklearn"
      ],
      "execution_count": null,
      "outputs": []
    },
    {
      "cell_type": "markdown",
      "metadata": {
        "id": "a21lJq3ET29h"
      },
      "source": [
        "### **3. Import Auto-Sklearn**"
      ]
    },
    {
      "cell_type": "code",
      "metadata": {
        "id": "nyxsK3k0i-vY"
      },
      "source": [
        "import autosklearn\n",
        "print(autosklearn.__version__)\n",
        "# Warning: If you find error while importing autosklearn, just restart the runtime\n",
        "\n",
        "# import necessary libraries for project\n",
        "import pandas as pd\n",
        "import numpy as np\n",
        "from sklearn.preprocessing import OrdinalEncoder\n",
        "from sklearn.model_selection import train_test_split\n",
        "from sklearn.metrics import accuracy_score\n",
        "from sklearn.metrics import mean_absolute_error\n",
        "\n",
        "from autosklearn.regression import AutoSklearnRegressor\n",
        "from autosklearn.classification import AutoSklearnClassifier"
      ],
      "execution_count": null,
      "outputs": []
    },
    {
      "cell_type": "markdown",
      "metadata": {
        "id": "xNs-CbQXWi4m"
      },
      "source": [
        "## **4.1.  Auto-sklearn for classification**"
      ]
    },
    {
      "cell_type": "code",
      "metadata": {
        "id": "AnFprulPi-n6",
        "colab": {
          "base_uri": "https://localhost:8080/",
          "height": 203
        },
        "outputId": "087cdaf8-99ff-43d9-bea5-5809eb04fcc9"
      },
      "source": [
        "# import dataset\n",
        "churn_df = pd.read_csv(\"/content/churn_data_st.csv\")\n",
        "churn_df.head()"
      ],
      "execution_count": 36,
      "outputs": [
        {
          "output_type": "execute_result",
          "data": {
            "text/html": [
              "<div>\n",
              "<style scoped>\n",
              "    .dataframe tbody tr th:only-of-type {\n",
              "        vertical-align: middle;\n",
              "    }\n",
              "\n",
              "    .dataframe tbody tr th {\n",
              "        vertical-align: top;\n",
              "    }\n",
              "\n",
              "    .dataframe thead th {\n",
              "        text-align: right;\n",
              "    }\n",
              "</style>\n",
              "<table border=\"1\" class=\"dataframe\">\n",
              "  <thead>\n",
              "    <tr style=\"text-align: right;\">\n",
              "      <th></th>\n",
              "      <th>customerID</th>\n",
              "      <th>gender</th>\n",
              "      <th>SeniorCitizen</th>\n",
              "      <th>tenure</th>\n",
              "      <th>ServiceCount</th>\n",
              "      <th>Contract</th>\n",
              "      <th>PaperlessBilling</th>\n",
              "      <th>MonthlyCharges</th>\n",
              "      <th>TotalCharges</th>\n",
              "      <th>Churn</th>\n",
              "    </tr>\n",
              "  </thead>\n",
              "  <tbody>\n",
              "    <tr>\n",
              "      <th>0</th>\n",
              "      <td>7590-VHVEG</td>\n",
              "      <td>Female</td>\n",
              "      <td>0</td>\n",
              "      <td>1</td>\n",
              "      <td>2</td>\n",
              "      <td>Month-to-month</td>\n",
              "      <td>Yes</td>\n",
              "      <td>29.85</td>\n",
              "      <td>29.85</td>\n",
              "      <td>No</td>\n",
              "    </tr>\n",
              "    <tr>\n",
              "      <th>1</th>\n",
              "      <td>5575-GNVDE</td>\n",
              "      <td>Male</td>\n",
              "      <td>0</td>\n",
              "      <td>34</td>\n",
              "      <td>4</td>\n",
              "      <td>One year</td>\n",
              "      <td>No</td>\n",
              "      <td>56.95</td>\n",
              "      <td>1889.50</td>\n",
              "      <td>No</td>\n",
              "    </tr>\n",
              "    <tr>\n",
              "      <th>2</th>\n",
              "      <td>3668-QPYBK</td>\n",
              "      <td>Male</td>\n",
              "      <td>0</td>\n",
              "      <td>2</td>\n",
              "      <td>4</td>\n",
              "      <td>Month-to-month</td>\n",
              "      <td>Yes</td>\n",
              "      <td>53.85</td>\n",
              "      <td>108.15</td>\n",
              "      <td>Yes</td>\n",
              "    </tr>\n",
              "    <tr>\n",
              "      <th>3</th>\n",
              "      <td>7795-CFOCW</td>\n",
              "      <td>Male</td>\n",
              "      <td>0</td>\n",
              "      <td>45</td>\n",
              "      <td>4</td>\n",
              "      <td>One year</td>\n",
              "      <td>No</td>\n",
              "      <td>42.30</td>\n",
              "      <td>1840.75</td>\n",
              "      <td>No</td>\n",
              "    </tr>\n",
              "    <tr>\n",
              "      <th>4</th>\n",
              "      <td>9237-HQITU</td>\n",
              "      <td>Female</td>\n",
              "      <td>0</td>\n",
              "      <td>2</td>\n",
              "      <td>2</td>\n",
              "      <td>Month-to-month</td>\n",
              "      <td>Yes</td>\n",
              "      <td>70.70</td>\n",
              "      <td>151.65</td>\n",
              "      <td>Yes</td>\n",
              "    </tr>\n",
              "  </tbody>\n",
              "</table>\n",
              "</div>"
            ],
            "text/plain": [
              "   customerID  gender  SeniorCitizen  ...  MonthlyCharges  TotalCharges Churn\n",
              "0  7590-VHVEG  Female              0  ...           29.85         29.85    No\n",
              "1  5575-GNVDE    Male              0  ...           56.95       1889.50    No\n",
              "2  3668-QPYBK    Male              0  ...           53.85        108.15   Yes\n",
              "3  7795-CFOCW    Male              0  ...           42.30       1840.75    No\n",
              "4  9237-HQITU  Female              0  ...           70.70        151.65   Yes\n",
              "\n",
              "[5 rows x 10 columns]"
            ]
          },
          "metadata": {},
          "execution_count": 36
        }
      ]
    },
    {
      "cell_type": "code",
      "metadata": {
        "id": "qDlmPL0gi-lW"
      },
      "source": [
        "# shape of dataset\n",
        "churn_df.shape"
      ],
      "execution_count": null,
      "outputs": []
    },
    {
      "cell_type": "markdown",
      "metadata": {
        "id": "dVlYO7A1hHtE"
      },
      "source": [
        "### **4.2. Data Pre-Processing**"
      ]
    },
    {
      "cell_type": "code",
      "metadata": {
        "id": "dVWV-Q_fi-ef"
      },
      "source": [
        "# fill missing values with 0\n",
        "churn_df.fillna(0, inplace=True)\n",
        "churn_df.drop(columns=[\"customerID\"],axis=1,inplace=True)\n",
        "col_name = churn_df.columns\n",
        "\n",
        "# convert categorical column to numerical column\n",
        "df = OrdinalEncoder().fit_transform(churn_df)\n",
        "churn_df_trans = pd.DataFrame(df, columns=col_name).astype(int)\n",
        "\n",
        "X = churn_df_trans.drop(columns=[\"Churn\"],axis=1)\n",
        "y = churn_df_trans[\"Churn\"]\n",
        "\n",
        "# split the dataset\n",
        "X_train, X_test, y_train, y_test = train_test_split(X, y, test_size=0.30, random_state=42)"
      ],
      "execution_count": null,
      "outputs": []
    },
    {
      "cell_type": "code",
      "metadata": {
        "id": "gQf4iOGdhNti"
      },
      "source": [
        "X_train.shape"
      ],
      "execution_count": null,
      "outputs": []
    },
    {
      "cell_type": "markdown",
      "metadata": {
        "id": "Igm8DxLPq7g4"
      },
      "source": [
        "### **4.3. Model Building**"
      ]
    },
    {
      "cell_type": "code",
      "metadata": {
        "id": "9eAZyemZKKLA"
      },
      "source": [
        "# #define the model\n",
        "automl = AutoSklearnClassifier(\n",
        "    time_left_for_this_task=2*60,\n",
        "    per_run_time_limit=30,\n",
        "    metric = autosklearn.metrics.roc_auc,\n",
        "    resampling_strategy='cv',\n",
        "    resampling_strategy_arguments={'folds': 5},\n",
        "    ensemble_size = 1,\n",
        "    initial_configurations_via_metalearning = 0,\n",
        "    # include_estimators=[\"random_forest\", \"sgd\"], \n",
        "    # exclude_estimators=None\n",
        "    # n_jobs=4,\n",
        ")\n",
        "\n",
        "# automl = AutoSklearnClassifier()"
      ],
      "execution_count": null,
      "outputs": []
    },
    {
      "cell_type": "code",
      "metadata": {
        "id": "qing7Pk3gk5o"
      },
      "source": [
        "#train the model\n",
        "model = automl.fit(X_train, y_train )"
      ],
      "execution_count": 37,
      "outputs": []
    },
    {
      "cell_type": "markdown",
      "metadata": {
        "id": "nbw7PB7zC4Fr"
      },
      "source": [
        "### **4.4. Show Statistics**"
      ]
    },
    {
      "cell_type": "code",
      "metadata": {
        "colab": {
          "base_uri": "https://localhost:8080/"
        },
        "id": "ua6QUx-dsDyD",
        "outputId": "a58744e3-7840-4ce2-de94-e6d9d50ede90"
      },
      "source": [
        "# summarize\n",
        "print(model.sprint_statistics())"
      ],
      "execution_count": 38,
      "outputs": [
        {
          "output_type": "stream",
          "name": "stdout",
          "text": [
            "auto-sklearn results:\n",
            "  Dataset name: cfece43a-3a8e-11ec-8097-0242ac1c0002\n",
            "  Metric: roc_auc\n",
            "  Best validation score: 0.824683\n",
            "  Number of target algorithm runs: 8\n",
            "  Number of successful target algorithm runs: 6\n",
            "  Number of crashed target algorithm runs: 0\n",
            "  Number of target algorithms that exceeded the time limit: 2\n",
            "  Number of target algorithms that exceeded the memory limit: 0\n",
            "\n"
          ]
        }
      ]
    },
    {
      "cell_type": "code",
      "metadata": {
        "colab": {
          "base_uri": "https://localhost:8080/"
        },
        "id": "l98pGvfKsG71",
        "outputId": "44b65933-8ec2-4b39-a56c-7fabcd83eaec"
      },
      "source": [
        "# evaluate best model\n",
        "y_hat = model.predict(X_test)\n",
        "acc = accuracy_score(y_test, y_hat)\n",
        "print(\"Accuracy: %.3f\" % acc)"
      ],
      "execution_count": 39,
      "outputs": [
        {
          "output_type": "stream",
          "name": "stdout",
          "text": [
            "Accuracy: 0.788\n"
          ]
        }
      ]
    },
    {
      "cell_type": "markdown",
      "metadata": {
        "id": "nO5QDnL38pwH"
      },
      "source": [
        "- When you fit the auto-sklearn model, you can check all the best outperforming pipelines with PipelineProfiler (pip install pipelineprofiler). To do that, you need to run the following code:"
      ]
    },
    {
      "cell_type": "code",
      "metadata": {
        "id": "wz4zVw6l8CXr"
      },
      "source": [
        "!pip install PipelineProfiler"
      ],
      "execution_count": null,
      "outputs": []
    },
    {
      "cell_type": "code",
      "metadata": {
        "id": "Ww8rCEJP71m1"
      },
      "source": [
        "import PipelineProfiler\n",
        "# automl is an object Which has already been created.\n",
        "profiler_data= PipelineProfiler.import_autosklearn(model)\n",
        "PipelineProfiler.plot_pipeline_matrix(profiler_data)"
      ],
      "execution_count": null,
      "outputs": []
    },
    {
      "cell_type": "markdown",
      "metadata": {
        "id": "9mljRzOdtIdN"
      },
      "source": [
        "## **5.1.  Auto-sklearn for Regression**"
      ]
    },
    {
      "cell_type": "code",
      "metadata": {
        "id": "J4ek_8tW6zpn"
      },
      "source": [
        "# load dataset\n",
        "url = 'https://raw.githubusercontent.com/jbrownlee/Datasets/master/auto-insurance.csv'\n",
        "dataframe = pd.read_csv(url, header=None)\n",
        "# split into input and output elements\n",
        "data = dataframe.values\n",
        "X1, y1 = data[:, :-1], data[:, -1]\n",
        "\n",
        "# split the dataset\n",
        "X_train1, X_test1, y_train1, y_test1 = train_test_split(X1, y1, test_size=0.30, random_state=42)"
      ],
      "execution_count": null,
      "outputs": []
    },
    {
      "cell_type": "markdown",
      "metadata": {
        "id": "4AYjo8-nCg0l"
      },
      "source": [
        "### **5.2. Model Building**"
      ]
    },
    {
      "cell_type": "code",
      "metadata": {
        "id": "BDzl33zo7SSo"
      },
      "source": [
        "# #define the model\n",
        "automl2 = AutoSklearnRegressor(\n",
        "    time_left_for_this_task=60,\n",
        "    per_run_time_limit=30,\n",
        "    metric = autosklearn.metrics.mean_absolute_error,\n",
        "    resampling_strategy='cv',\n",
        "    resampling_strategy_arguments={'folds': 5},\n",
        "    ensemble_size = 1,\n",
        "    initial_configurations_via_metalearning = 0,\n",
        "    # include_estimators=[\"random_forest\", \"sgd\"], \n",
        "    # exclude_estimators=None,\n",
        "    # n_jobs=4\n",
        ")"
      ],
      "execution_count": null,
      "outputs": []
    },
    {
      "cell_type": "code",
      "metadata": {
        "colab": {
          "base_uri": "https://localhost:8080/"
        },
        "id": "kxQGjBKp7SQ1",
        "outputId": "995c4e90-f42b-48da-9411-44c7f795e6cd"
      },
      "source": [
        "# perform the search\n",
        "automl2.fit(X_train1, y_train1)"
      ],
      "execution_count": 40,
      "outputs": [
        {
          "output_type": "stream",
          "name": "stdout",
          "text": [
            "[WARNING] [2021-10-31 21:11:14,858:Client-AutoML(1):14632be4-3a8f-11ec-8097-0242ac1c0002] Capping the per_run_time_limit to 29.0 to have time for a least 2 models in each process.\n"
          ]
        },
        {
          "output_type": "execute_result",
          "data": {
            "text/plain": [
              "AutoSklearnRegressor(ensemble_size=1, initial_configurations_via_metalearning=0,\n",
              "                     metric=mean_absolute_error, per_run_time_limit=30,\n",
              "                     resampling_strategy='cv',\n",
              "                     resampling_strategy_arguments={'folds': 5},\n",
              "                     time_left_for_this_task=60)"
            ]
          },
          "metadata": {},
          "execution_count": 40
        }
      ]
    },
    {
      "cell_type": "markdown",
      "metadata": {
        "id": "wknwbdW4DPCY"
      },
      "source": [
        "### **5.3. Show Statistics**"
      ]
    },
    {
      "cell_type": "code",
      "metadata": {
        "id": "Qw9KPacn7o1d",
        "colab": {
          "base_uri": "https://localhost:8080/"
        },
        "outputId": "cccacea2-b576-45eb-e2bf-a4dd79963d3b"
      },
      "source": [
        "# summarize\n",
        "print(automl2.sprint_statistics())"
      ],
      "execution_count": 41,
      "outputs": [
        {
          "output_type": "stream",
          "name": "stdout",
          "text": [
            "auto-sklearn results:\n",
            "  Dataset name: 14632be4-3a8f-11ec-8097-0242ac1c0002\n",
            "  Metric: mean_absolute_error\n",
            "  Best validation score: 33.934434\n",
            "  Number of target algorithm runs: 8\n",
            "  Number of successful target algorithm runs: 7\n",
            "  Number of crashed target algorithm runs: 1\n",
            "  Number of target algorithms that exceeded the time limit: 0\n",
            "  Number of target algorithms that exceeded the memory limit: 0\n",
            "\n"
          ]
        }
      ]
    },
    {
      "cell_type": "code",
      "metadata": {
        "id": "HLET2M8I9FK8"
      },
      "source": [
        ""
      ],
      "execution_count": null,
      "outputs": []
    }
  ]
}